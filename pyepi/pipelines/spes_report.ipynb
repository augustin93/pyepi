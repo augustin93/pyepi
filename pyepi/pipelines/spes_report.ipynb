{
 "cells": [
  {
   "cell_type": "code",
   "execution_count": null,
   "metadata": {},
   "outputs": [],
   "source": [
    "subj = ''\n",
    "subj_dir = ''"
   ]
  },
  {
   "cell_type": "code",
   "execution_count": null,
   "metadata": {},
   "outputs": [],
   "source": [
    "from IPython.display import display, Markdown, Latex, Image, HTML\n",
    "# %autosave 0\n",
    "%matplotlib inline\n",
    "\n"
   ]
  },
  {
   "cell_type": "code",
   "execution_count": null,
   "metadata": {},
   "outputs": [],
   "source": [
    "HTML('''<script>\n",
    "code_show=true; \n",
    "function code_toggle() {\n",
    " if (code_show){\n",
    " $('div.input').hide();\n",
    " } else {\n",
    " $('div.input').show();\n",
    " }\n",
    " code_show = !code_show\n",
    "} \n",
    "$( document ).ready(code_toggle);\n",
    "</script>\n",
    "''')\n",
    "\n"
   ]
  },
  {
   "cell_type": "code",
   "execution_count": null,
   "metadata": {},
   "outputs": [],
   "source": [
    "from pyepi.tools import inout, plots\n",
    "from time import time\n",
    "import pandas as pd\n",
    "from surfer import Brain\n",
    "import os\n",
    "import datetime\n",
    "tstart = time()\n",
    "\n",
    "def Images(images, header=None, width=\"100%\"): # to match Image syntax\n",
    "    if type(width)==type(1): width = \"{}px\".format(width)\n",
    "    html = [\"<table style='width:{}; border: 0px solid black;'><tr>\".format(width)]\n",
    "    if header is not None:\n",
    "        html += [\"<th align='center'>{}</th>\".format(h) for h in header] + [\"</tr><tr>\"]\n",
    "\n",
    "    for image in images:\n",
    "        html.append(\"<td><img src='{}' /></td>\".format(image))\n",
    "    html.append(\"</tr></table>\")\n",
    "    display(HTML(''.join(html)))\n"
   ]
  },
  {
   "cell_type": "code",
   "execution_count": null,
   "metadata": {},
   "outputs": [],
   "source": [
    "display(Markdown('##' + subj ))"
   ]
  },
  {
   "cell_type": "markdown",
   "metadata": {
    "collapsed": true
   },
   "source": [
    "\n",
    "#### Implantation scheme\n",
    "3D rendering of the brain's pial surface with SEEG electrodes. \n"
   ]
  },
  {
   "cell_type": "code",
   "execution_count": null,
   "metadata": {},
   "outputs": [],
   "source": [
    "from mayavi import mlab\n",
    "mlab.init_notebook('png',600,600, local=False)"
   ]
  },
  {
   "cell_type": "code",
   "execution_count": null,
   "metadata": {},
   "outputs": [],
   "source": [
    "coords = pd.read_excel(os.path.join(subj_dir, subj, 'Contact_coordinates.xlsx'))\n",
    "brain = plots.implantation_scheme(subj, subj_dir, fig_size=(500, 500), brain_alpha=0.3,electrode_label_size=3)\n",
    "view_orientations=plots.get_views(coords)\n",
    "\n",
    "list_of_labels =['COR',\n",
    "                 'SAG',\n",
    "                 'AX' ]\n",
    "# list_of_views = [os.path.join(subj_dir, subj, 'reports', 'implantation_scheme_' + label+ '.png') \n",
    "#                  for label in list_of_labels]\n",
    "list_of_views = ['implantation_scheme_' + label+ '.png' \n",
    "                 for label in list_of_labels]\n",
    "for v in range(0,len(view_orientations)):\n",
    "    brain.show_view(view_orientations[v])\n",
    "    img = brain.save_image(filename=list_of_views[v])\n",
    "    \n",
    "# img = brain.save_montage(os.path.join(subj_dir, subj, 'reports', 'implantation_scheme.png'),\n",
    "#                          order = view_orientations, border_size=0)\n",
    "\n"
   ]
  },
  {
   "cell_type": "code",
   "execution_count": null,
   "metadata": {},
   "outputs": [],
   "source": [
    ""
   ]
  },
  {
   "cell_type": "code",
   "execution_count": null,
   "metadata": {},
   "outputs": [],
   "source": [
    "# Image(os.path.join(subj_dir, subj, 'reports', 'implantation_scheme.png'))\n",
    "\n",
    "# Images(list_of_views, header=list_of_labels, width=\"100%\")\n",
    "Images(list_of_views, header=None, width=\"100%\")\n",
    "\n"
   ]
  },
  {
   "cell_type": "markdown",
   "metadata": {},
   "source": [
    "#### Effective Connectivity inferred by single pulse electrical stimulation\n",
    "\n",
    "##### Outbound connectivity"
   ]
  },
  {
   "cell_type": "markdown",
   "metadata": {
    "collapsed": true
   },
   "source": []
  },
  {
   "cell_type": "code",
   "execution_count": null,
   "metadata": {},
   "outputs": [],
   "source": [
    "try:\n",
    "    brain, circle, spes = plots.spes_responses_by_contacts(subj, fig_size=(500, 500),\n",
    "                                                       flow='outbound', max_linewidth=10,\n",
    "                                                       hide_buttons=True)\n",
    "except:\n",
    "    print(\"\"\"\n",
    "        The connectome can not be generated at this time. \n",
    "        Possible causes include missing SPES.xls file, contact name mismatch, \n",
    "        incorrect split of intracranial and scalp data, etc. \n",
    "        Check the raw data try again.\"\"\")\n",
    "    "
   ]
  },
  {
   "cell_type": "markdown",
   "metadata": {},
   "source": [
    "##### Inbound connectivity"
   ]
  },
  {
   "cell_type": "code",
   "execution_count": null,
   "metadata": {},
   "outputs": [],
   "source": [
    "try:\n",
    "    brain2, circle2, spes2 = plots.spes_responses_by_contacts(subj, fig_size=(500, 500),\n",
    "                                                       flow='inbound', max_linewidth=10,\n",
    "                                                       hide_buttons=True)\n",
    "except:\n",
    "    print(\"\"\"\n",
    "        The connectome can not be generated at this time. \n",
    "        Possible causes include missing SPES.xls file, contact name mismatch, \n",
    "        incorrect split of intracranial and scalp data, etc. \n",
    "        Check the raw data try again.\"\"\")\n",
    "    "
   ]
  },
  {
   "cell_type": "code",
   "execution_count": null,
   "metadata": {},
   "outputs": [],
   "source": [
    "current_date = datetime.datetime.now().strftime('%Y-%m-%d %H:%M:%S')\n",
    "print('Last update: ' + current_date + '. Took ' + str(time()-tstart) + ' seconds')\n"
   ]
  }
 ],
 "metadata": {
  "kernelspec": {
   "display_name": "Python 3",
   "language": "python",
   "name": "python3"
  },
  "language_info": {
   "codemirror_mode": {
    "name": "ipython",
    "version": 3
   },
   "file_extension": ".py",
   "mimetype": "text/x-python",
   "name": "python",
   "nbconvert_exporter": "python",
   "pygments_lexer": "ipython3",
   "version": "3.6.6"
  }
 },
 "nbformat": 4,
 "nbformat_minor": 1
}
