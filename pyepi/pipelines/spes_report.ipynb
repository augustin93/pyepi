{
 "cells": [
  {
   "cell_type": "code",
   "execution_count": null,
   "metadata": {},
   "outputs": [],
   "source": [
    "subj = ''\n",
    "subj_dir = ''"
   ]
  },
  {
   "cell_type": "code",
   "execution_count": null,
   "metadata": {},
   "outputs": [],
   "source": [
    "from IPython.display import HTML\n",
    "from IPython.display import display, Markdown, Latex, Image\n",
    "# %autosave 0\n",
    "%matplotlib inline"
   ]
  },
  {
   "cell_type": "code",
   "execution_count": null,
   "metadata": {},
   "outputs": [],
   "source": [
    "HTML('''<script>\n",
    "code_show=true; \n",
    "function code_toggle() {\n",
    " if (code_show){\n",
    " $('div.input').hide();\n",
    " } else {\n",
    " $('div.input').show();\n",
    " }\n",
    " code_show = !code_show\n",
    "} \n",
    "$( document ).ready(code_toggle);\n",
    "</script>\n",
    "''')\n"
   ]
  },
  {
   "cell_type": "code",
   "execution_count": null,
   "metadata": {},
   "outputs": [],
   "source": [
    "from pyepi.tools import inout, plots\n",
    "from time import time\n",
    "import pandas as pd\n",
    "from surfer import Brain\n",
    "import os\n",
    "import datetime\n",
    "tstart = time()"
   ]
  },
  {
   "cell_type": "markdown",
   "metadata": {
    "collapsed": true,
    "variables": {
     "subj": "SEEG72"
    }
   },
   "source": [
    "## {{subj}}"
   ]
  },
  {
   "cell_type": "markdown",
   "metadata": {
    "collapsed": true
   },
   "source": [
    "#### Implantation scheme\n",
    "3D rendering of the brain's pial surface with SEEG electrodes. "
   ]
  },
  {
   "cell_type": "code",
   "execution_count": null,
   "metadata": {},
   "outputs": [],
   "source": [
    "from mayavi import mlab\n",
    "mlab.init_notebook('png',500,500, local=False)"
   ]
  },
  {
   "cell_type": "code",
   "execution_count": null,
   "metadata": {},
   "outputs": [],
   "source": [
    "coords = pd.read_excel(os.path.join(subj_dir, subj, 'Contact_coordinates.xlsx'))\n",
    "brain = plots.implantation_scheme(subj, subj_dir, fig_size=(500, 500), brain_alpha=0.3,electrode_label_size=3)\n",
    "brain = plots.electrode_labels(coords, brain, electrode_label_size=3)\n",
    "view_orientations=plots.get_views(coords)\n",
    "img = brain.save_montage(os.path.join(subj_dir, subj, 'reports', 'implantation_scheme.png'), order = view_orientations)\n"
   ]
  },
  {
   "cell_type": "code",
   "execution_count": null,
   "metadata": {},
   "outputs": [],
   "source": [
    ""
   ]
  },
  {
   "cell_type": "code",
   "execution_count": null,
   "metadata": {},
   "outputs": [],
   "source": [
    "Image(os.path.join(subj_dir, subj, 'reports', 'implantation_scheme.png'))"
   ]
  },
  {
   "cell_type": "markdown",
   "metadata": {},
   "source": [
    "#### Effective Connectivity inferred by single pulse electrical stimulation\n",
    "\n",
    "##### Outbound connectivity"
   ]
  },
  {
   "cell_type": "markdown",
   "metadata": {
    "collapsed": true
   },
   "source": []
  },
  {
   "cell_type": "code",
   "execution_count": null,
   "metadata": {},
   "outputs": [],
   "source": [
    "try:\n",
    "    brain, circle, spes = plots.spes_responses_by_contacts(subj, subj_dir, fig_size=(500, 500),\n",
    "                                                       flow='outbound', max_linewidth=10,\n",
    "                                                       hide_buttons=True)\n",
    "except:\n",
    "    print('The connectome can not be generated at this time.')\n",
    "    print('Possible causes: missing SPES.xls file, contact name mismatch, incorrect split of intracranial and scal data, etc.')))\n",
    "    print('Check the raw data try again.')\n",
    "    "
   ]
  },
  {
   "cell_type": "markdown",
   "metadata": {},
   "source": [
    "##### Inbound connectivity"
   ]
  },
  {
   "cell_type": "code",
   "execution_count": null,
   "metadata": {},
   "outputs": [],
   "source": [
    "try:\n",
    "    brain2, circle2, spes2 = plots.spes_responses_by_contacts(subj, subj_dir, fig_size=(500, 500),\n",
    "                                                       flow='inbound', max_linewidth=10,\n",
    "                                                       hide_buttons=True)\n",
    "except:\n",
    "    print('The connectome can not be generated at this time.')\n",
    "    print('Possible causes: missing SPES.xls file, contact name mismatch, incorrect split of intracranial and scal data, etc.')))\n",
    "    print('Check the raw data try again.')\n",
    "\n"
   ]
  },
  {
   "cell_type": "code",
   "execution_count": null,
   "metadata": {},
   "outputs": [],
   "source": [
    "current_date = datetime.datetime.now().strftime('%Y-%m-%d %H:%M:%S')\n",
    "print('Last update: ' + current_date + '. Took ' + str(time()-tstart) + ' seconds')\n"
   ]
  }
 ],
 "metadata": {
  "kernelspec": {
   "display_name": "Python 3",
   "language": "python",
   "name": "python3"
  },
  "language_info": {
   "codemirror_mode": {
    "name": "ipython",
    "version": 3
   },
   "file_extension": ".py",
   "mimetype": "text/x-python",
   "name": "python",
   "nbconvert_exporter": "python",
   "pygments_lexer": "ipython3",
   "version": "3.6.6"
  }
 },
 "nbformat": 4,
 "nbformat_minor": 1
}
